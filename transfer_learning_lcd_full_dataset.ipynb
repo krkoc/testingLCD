{
 "cells": [
  {
   "cell_type": "code",
   "execution_count": 1,
   "metadata": {},
   "outputs": [
    {
     "name": "stderr",
     "output_type": "stream",
     "text": [
      "Using TensorFlow backend.\n"
     ]
    }
   ],
   "source": [
    "import numpy as np\n",
    "import matplotlib.pyplot as plt\n",
    "%matplotlib inline\n",
    "from __future__ import print_function\n",
    "import keras\n",
    "from keras.utils import to_categorical\n",
    "import os\n",
    "from keras.preprocessing.image import ImageDataGenerator, load_img\n",
    "\n",
    "\n",
    "import tensorflow as tf\n"
   ]
  },
  {
   "cell_type": "code",
   "execution_count": 2,
   "metadata": {
    "collapsed": true
   },
   "outputs": [],
   "source": [
    "from keras.applications import InceptionV3\n",
    "\n",
    "\n",
    "vgg_conv = InceptionV3(weights='imagenet',\n",
    "                  include_top=False,\n",
    "                  input_shape=(224, 224, 3))"
   ]
  },
  {
   "cell_type": "code",
   "execution_count": 3,
   "metadata": {
    "collapsed": true
   },
   "outputs": [],
   "source": [
    "train_dir = '/home/peter/LCDtest/train_data'\n",
    "validation_dir  = '/home/peter/LCDtest/validation_data'\n",
    "validation_mini_batch_dir = './complete_dataset/validation_real_images'\n",
    "\n",
    "nTrain = 29*100\n",
    "nVal = 29*5\n",
    "nVal_mini_batch = 5\n",
    "numClases = 29"
   ]
  },
  {
   "cell_type": "code",
   "execution_count": 4,
   "metadata": {},
   "outputs": [
    {
     "name": "stdout",
     "output_type": "stream",
     "text": [
      "Found 2900 images belonging to 29 classes.\n",
      "train generator\n",
      "20\n",
      "2900\n",
      "40\n",
      "2900\n",
      "60\n",
      "2900\n",
      "80\n",
      "2900\n",
      "100\n",
      "2900\n",
      "120\n",
      "2900\n",
      "140\n",
      "2900\n",
      "160\n",
      "2900\n",
      "180\n",
      "2900\n",
      "200\n",
      "2900\n",
      "220\n",
      "2900\n",
      "240\n",
      "2900\n",
      "260\n",
      "2900\n",
      "280\n",
      "2900\n",
      "300\n",
      "2900\n",
      "320\n",
      "2900\n",
      "340\n",
      "2900\n",
      "360\n",
      "2900\n",
      "380\n",
      "2900\n",
      "400\n",
      "2900\n",
      "420\n",
      "2900\n",
      "440\n",
      "2900\n",
      "460\n",
      "2900\n",
      "480\n",
      "2900\n",
      "500\n",
      "2900\n",
      "520\n",
      "2900\n",
      "540\n",
      "2900\n",
      "560\n",
      "2900\n",
      "580\n",
      "2900\n",
      "600\n",
      "2900\n",
      "620\n",
      "2900\n",
      "640\n",
      "2900\n",
      "660\n",
      "2900\n",
      "680\n",
      "2900\n",
      "700\n",
      "2900\n",
      "720\n",
      "2900\n",
      "740\n",
      "2900\n",
      "760\n",
      "2900\n",
      "780\n",
      "2900\n",
      "800\n",
      "2900\n",
      "820\n",
      "2900\n",
      "840\n",
      "2900\n",
      "860\n",
      "2900\n",
      "880\n",
      "2900\n",
      "900\n",
      "2900\n",
      "920\n",
      "2900\n",
      "940\n",
      "2900\n",
      "960\n",
      "2900\n",
      "980\n",
      "2900\n",
      "1000\n",
      "2900\n",
      "1020\n",
      "2900\n",
      "1040\n",
      "2900\n",
      "1060\n",
      "2900\n",
      "1080\n",
      "2900\n",
      "1100\n",
      "2900\n",
      "1120\n",
      "2900\n",
      "1140\n",
      "2900\n",
      "1160\n",
      "2900\n",
      "1180\n",
      "2900\n",
      "1200\n",
      "2900\n",
      "1220\n",
      "2900\n",
      "1240\n",
      "2900\n",
      "1260\n",
      "2900\n",
      "1280\n",
      "2900\n",
      "1300\n",
      "2900\n",
      "1320\n",
      "2900\n",
      "1340\n",
      "2900\n",
      "1360\n",
      "2900\n",
      "1380\n",
      "2900\n",
      "1400\n",
      "2900\n",
      "1420\n",
      "2900\n",
      "1440\n",
      "2900\n",
      "1460\n",
      "2900\n",
      "1480\n",
      "2900\n",
      "1500\n",
      "2900\n",
      "1520\n",
      "2900\n",
      "1540\n",
      "2900\n",
      "1560\n",
      "2900\n",
      "1580\n",
      "2900\n",
      "1600\n",
      "2900\n",
      "1620\n",
      "2900\n",
      "1640\n",
      "2900\n",
      "1660\n",
      "2900\n",
      "1680\n",
      "2900\n",
      "1700\n",
      "2900\n",
      "1720\n",
      "2900\n",
      "1740\n",
      "2900\n",
      "1760\n",
      "2900\n",
      "1780\n",
      "2900\n",
      "1800\n",
      "2900\n",
      "1820\n",
      "2900\n",
      "1840\n",
      "2900\n",
      "1860\n",
      "2900\n",
      "1880\n",
      "2900\n",
      "1900\n",
      "2900\n",
      "1920\n",
      "2900\n",
      "1940\n",
      "2900\n",
      "1960\n",
      "2900\n",
      "1980\n",
      "2900\n",
      "2000\n",
      "2900\n",
      "2020\n",
      "2900\n",
      "2040\n",
      "2900\n",
      "2060\n",
      "2900\n",
      "2080\n",
      "2900\n",
      "2100\n",
      "2900\n",
      "2120\n",
      "2900\n",
      "2140\n",
      "2900\n",
      "2160\n",
      "2900\n",
      "2180\n",
      "2900\n",
      "2200\n",
      "2900\n",
      "2220\n",
      "2900\n",
      "2240\n",
      "2900\n",
      "2260\n",
      "2900\n",
      "2280\n",
      "2900\n",
      "2300\n",
      "2900\n",
      "2320\n",
      "2900\n",
      "2340\n",
      "2900\n",
      "2360\n",
      "2900\n",
      "2380\n",
      "2900\n",
      "2400\n",
      "2900\n",
      "2420\n",
      "2900\n",
      "2440\n",
      "2900\n",
      "2460\n",
      "2900\n",
      "2480\n",
      "2900\n",
      "2500\n",
      "2900\n",
      "2520\n",
      "2900\n",
      "2540\n",
      "2900\n",
      "2560\n",
      "2900\n",
      "2580\n",
      "2900\n",
      "2600\n",
      "2900\n",
      "2620\n",
      "2900\n",
      "2640\n",
      "2900\n",
      "2660\n",
      "2900\n",
      "2680\n",
      "2900\n",
      "2700\n",
      "2900\n",
      "2720\n",
      "2900\n",
      "2740\n",
      "2900\n",
      "2760\n",
      "2900\n",
      "2780\n",
      "2900\n",
      "2800\n",
      "2900\n",
      "2820\n",
      "2900\n",
      "2840\n",
      "2900\n",
      "2860\n",
      "2900\n",
      "2880\n",
      "2900\n",
      "2900\n",
      "2900\n"
     ]
    }
   ],
   "source": [
    "datagen = ImageDataGenerator(rescale=1./256)\n",
    "batch_size = 20\n",
    "#vgg16\n",
    "#train_features = np.zeros(shape=(nTrain, 7, 7, 512))\n",
    "#inception\n",
    "train_features = np.zeros(shape=(nTrain, 5, 5, 2048))\n",
    "\n",
    "train_labels = np.zeros(shape=(nTrain,numClases))\n",
    "\n",
    "train_generator = datagen.flow_from_directory(\n",
    "    train_dir,\n",
    "    target_size=(224, 224),\n",
    "    batch_size=batch_size,\n",
    "    class_mode='categorical',\n",
    "    shuffle=False)\n",
    "print(\"train generator\")\n",
    "\n",
    "i = 0\n",
    "for inputs_batch, labels_batch in train_generator:\n",
    "    features_batch = vgg_conv.predict(inputs_batch)\n",
    "    train_features[i * batch_size : (i + 1) * batch_size] = features_batch\n",
    "    train_labels[i * batch_size : (i + 1) * batch_size] = labels_batch\n",
    "    i += 1\n",
    "    print(i * batch_size)\n",
    "    print(nTrain)\n",
    "    if i * batch_size >= nTrain:\n",
    "        break\n",
    "\n",
    "#vgg16        \n",
    "#train_features = np.reshape(train_features, (nTrain, 7 * 7 * 512))\n",
    "#inception\n",
    "train_features = np.reshape(train_features, (nTrain, 5 * 5 * 2048))\n",
    "np.set_printoptions(threshold=100)"
   ]
  },
  {
   "cell_type": "code",
   "execution_count": 21,
   "metadata": {},
   "outputs": [
    {
     "name": "stdout",
     "output_type": "stream",
     "text": [
      "Found 145 images belonging to 29 classes.\n",
      "1\n",
      "2\n",
      "3\n",
      "4\n",
      "5\n",
      "6\n",
      "7\n",
      "8\n",
      "9\n",
      "10\n",
      "11\n",
      "12\n",
      "13\n",
      "14\n",
      "15\n",
      "16\n",
      "17\n",
      "18\n",
      "19\n",
      "20\n",
      "21\n",
      "22\n",
      "23\n",
      "24\n",
      "25\n",
      "26\n",
      "27\n",
      "28\n",
      "29\n"
     ]
    }
   ],
   "source": [
    "validation_features = np.zeros(shape=(nVal, 5, 5, 2048))\n",
    "validation_labels = np.zeros(shape=(nVal,numClases))\n",
    "\n",
    "validation_generator = datagen.flow_from_directory(\n",
    "    validation_dir,\n",
    "    target_size=(224, 224),\n",
    "    batch_size=batch_size,\n",
    "    class_mode='categorical',\n",
    "    shuffle=False)\n",
    "\n",
    "i = 0\n",
    "\n",
    "for inputs_batch, labels_batch in validation_generator:\n",
    "    features_batch = vgg_conv.predict(inputs_batch)\n",
    "    validation_features[i * batch_size : (i + 1) * batch_size] = features_batch\n",
    "    validation_labels[i * batch_size : (i + 1) * batch_size] = labels_batch\n",
    "    i += 1\n",
    "    print(i)\n",
    "    if i * batch_size >= nVal:\n",
    "        break\n",
    "\n",
    "\n",
    "validation_features = np.reshape(validation_features, (nVal, 5 * 5 * 2048))\n"
   ]
  },
  {
   "cell_type": "markdown",
   "metadata": {},
   "source": [
    "### Create your own model and train the network"
   ]
  },
  {
   "cell_type": "code",
   "execution_count": 8,
   "metadata": {
    "scrolled": true
   },
   "outputs": [
    {
     "name": "stdout",
     "output_type": "stream",
     "text": [
      "Epoch 1/4\n",
      "2900/2900 [==============================] - 404s 139ms/step - loss: 0.0596 - acc: 0.9850\n",
      "Epoch 2/4\n",
      "2900/2900 [==============================] - 384s 132ms/step - loss: 0.0014 - acc: 0.9998\n",
      "Epoch 3/4\n",
      "2900/2900 [==============================] - 405s 140ms/step - loss: 2.6377e-04 - acc: 0.9999\n",
      "Epoch 4/4\n",
      "2900/2900 [==============================] - 383s 132ms/step - loss: 9.0878e-05 - acc: 1.0000\n"
     ]
    }
   ],
   "source": [
    "from keras import models\n",
    "from keras import layers\n",
    "from keras import optimizers\n",
    "from keras.models import Sequential\n",
    "from keras.layers import Conv2D, MaxPooling1D, GlobalAveragePooling1D, Dense\n",
    "\n",
    "\n",
    "model = models.Sequential()\n",
    "model.add(layers.Dense(640, activation='relu'))\n",
    "model.add(layers.Dense(640, activation='relu'))\n",
    "model.add(layers.Dense(640, activation='relu'))\n",
    "model.add(layers.Dense(640, activation='relu'))\n",
    "model.add(layers.Dense(64, activation='relu'))\n",
    "model.add(layers.Dense(numClases, activation='sigmoid'))\n",
    "\n",
    "\n",
    "optimizer=optimizers.RMSprop(lr=2e-5)\n",
    "model.compile(optimizer,\n",
    "              loss='binary_crossentropy',\n",
    "              metrics=['accuracy'])\n",
    "\n",
    "history = model.fit(train_features,\n",
    "                    train_labels,\n",
    "                    epochs=4,\n",
    "                    batch_size=batch_size)"
   ]
  },
  {
   "cell_type": "code",
   "execution_count": null,
   "metadata": {
    "collapsed": true
   },
   "outputs": [],
   "source": [
    "#model1=models.Sequential()\n",
    "#model1.add(vgg_conv)\n",
    "#model1.add(model)"
   ]
  },
  {
   "cell_type": "code",
   "execution_count": 22,
   "metadata": {
    "collapsed": true
   },
   "outputs": [],
   "source": [
    "fnames = validation_generator.filenames\n",
    "ground_truth = validation_generator.classes\n",
    "label2index = validation_generator.class_indices\n",
    "\n",
    "# Getting the mapping from class index to class label\n",
    "idx2label = dict((v,k) for k,v in label2index.items())"
   ]
  },
  {
   "cell_type": "code",
   "execution_count": 23,
   "metadata": {},
   "outputs": [
    {
     "data": {
      "text/plain": [
       "array([ 0, 28,  0, 24, 15,  1,  1,  1,  1,  1,  2,  2,  2,  2,  2,  3,  3,\n",
       "        3,  3,  3,  4,  4,  4,  4,  4,  5,  5,  5,  5,  5,  6,  6,  6,  6,\n",
       "        6,  7,  7,  7,  7,  7,  8,  8,  8,  8,  8,  9,  9,  9,  9,  9, 10,\n",
       "       10, 10, 10, 10, 11, 11, 11, 11, 11, 12, 12, 12, 12, 12, 13, 13, 13,\n",
       "       13, 13, 14, 14, 14, 14, 14, 15, 15, 15, 15, 15, 16, 16, 16, 16, 16,\n",
       "       17, 17, 17, 17, 17, 18, 18, 18, 18, 18, 19, 19, 19, 19, 19, 20, 20,\n",
       "       20, 20, 20, 21, 21, 21, 21, 21, 22, 22, 22, 22, 22, 23, 23, 23, 23,\n",
       "       23, 24, 24, 24, 24, 24, 25, 25, 25, 25, 25, 26, 26, 26, 26, 26, 27,\n",
       "       27, 27, 27, 27, 28, 28, 28, 28, 28])"
      ]
     },
     "execution_count": 23,
     "metadata": {},
     "output_type": "execute_result"
    }
   ],
   "source": [
    "predictions = model.predict_classes(validation_features)\n",
    "prob = model.predict(validation_features)\n",
    "predictions"
   ]
  },
  {
   "cell_type": "code",
   "execution_count": 24,
   "metadata": {
    "scrolled": true
   },
   "outputs": [
    {
     "name": "stdout",
     "output_type": "stream",
     "text": [
      "No of errors = 3/145\n"
     ]
    }
   ],
   "source": [
    "errors = np.where(predictions != ground_truth)[0]\n",
    "print(\"No of errors = {}/{}\".format(len(errors),nVal))"
   ]
  },
  {
   "cell_type": "code",
   "execution_count": 36,
   "metadata": {
    "scrolled": false
   },
   "outputs": [
    {
     "data": {
      "text/plain": [
       "[<matplotlib.lines.Line2D at 0x7fa60a18d6d0>]"
      ]
     },
     "execution_count": 36,
     "metadata": {},
     "output_type": "execute_result"
    },
    {
     "data": {
      "image/png": "[encoded data removed]",
      "text/plain": [
       "<matplotlib.figure.Figure at 0x7fa5bdf36350>"
      ]
     },
     "metadata": {},
     "output_type": "display_data"
    }
   ],
   "source": [
    "np.set_printoptions(threshold=np.nan)\n",
    "predictions\n",
    "\n",
    "maxvals= np.array([])\n",
    "for i in range(0,len(prob)):\n",
    "    #plt.plot(prob[i])\n",
    "    maxvals= np.append(maxvals,np.max(prob[i]))\n",
    "    #print(np.max(prob[i]))\n",
    "plt.plot(maxvals[5:145],'ro')  \n",
    "#np.column_stack((fnames,maxvals))[0:580]\n"
   ]
  },
  {
   "cell_type": "code",
   "execution_count": 37,
   "metadata": {},
   "outputs": [
    {
     "data": {
      "image/png": "[encoded data removed]",
      "text/plain": [
       "<matplotlib.figure.Figure at 0x7fa60a02b490>"
      ]
     },
     "metadata": {},
     "output_type": "display_data"
    },
    {
     "data": {
      "image/png": "[encoded data removed]",
      "text/plain": [
       "<matplotlib.figure.Figure at 0x7fa60a1a7e50>"
      ]
     },
     "metadata": {},
     "output_type": "display_data"
    },
    {
     "data": {
      "image/png": "[encoded data removed]",
      "text/plain": [
       "<matplotlib.figure.Figure at 0x7fa5bded8e10>"
      ]
     },
     "metadata": {},
     "output_type": "display_data"
    },
    {
     "data": {
      "image/png": "[encoded data removed]",
      "text/plain": [
       "<matplotlib.figure.Figure at 0x7fa5bde91950>"
      ]
     },
     "metadata": {},
     "output_type": "display_data"
    }
   ],
   "source": [
    "for i in range(4):\n",
    "    a=prob[i].tolist()\n",
    "    plt.bar(range(1,30),a)\n",
    "    plt.ylim(0,1)\n",
    "    plt.show()\n"
   ]
  },
  {
   "cell_type": "code",
   "execution_count": 40,
   "metadata": {},
   "outputs": [
    {
     "data": {
      "text/plain": [
       "array([3.84244546e-12, 1.62792901e-07, 2.39006312e-07, 1.69659328e-10,\n",
       "       8.04961253e-09, 1.62749744e-11, 6.48763353e-06, 3.94040513e-13,\n",
       "       3.31828419e-11, 4.12924590e-11, 4.35383117e-04, 9.00166786e-09,\n",
       "       6.39709260e-13, 4.01706358e-14, 3.40448416e-12, 1.96372367e-12,\n",
       "       3.65909941e-10, 1.05816515e-10, 5.00813245e-11, 1.04201760e-07,\n",
       "       3.24669114e-09, 3.47129378e-12, 6.70032779e-12, 1.67456947e-05,\n",
       "       9.41503823e-01, 9.12369444e-07, 2.76856547e-08, 2.19601670e-09,\n",
       "       2.35420537e-11], dtype=float32)"
      ]
     },
     "execution_count": 40,
     "metadata": {},
     "output_type": "execute_result"
    }
   ],
   "source": [
    "prob[3]"
   ]
  },
  {
   "cell_type": "code",
   "execution_count": null,
   "metadata": {
    "collapsed": true
   },
   "outputs": [],
   "source": []
  }
 ],
 "metadata": {
  "kernelspec": {
   "display_name": "Python 2",
   "language": "python",
   "name": "python2"
  },
  "language_info": {
   "codemirror_mode": {
    "name": "ipython",
    "version": 2
   },
   "file_extension": ".py",
   "mimetype": "text/x-python",
   "name": "python",
   "nbconvert_exporter": "python",
   "pygments_lexer": "ipython2",
   "version": "2.7.6"
  }
 },
 "nbformat": 4,
 "nbformat_minor": 2
}
