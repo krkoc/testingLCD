{
 "cells": [
  {
   "cell_type": "code",
   "execution_count": 1,
   "metadata": {
    "collapsed": true
   },
   "outputs": [],
   "source": [
    "#import cv2\n",
    "import os \n",
    "from PIL import Image\n",
    "from PIL import ImageDraw\n",
    "from PIL import ImageFont\n",
    "from matplotlib import pyplot as plt\n",
    "import random as rn\n",
    "import numpy as np\n",
    "import cv2 as cv\n",
    "import shutil\n",
    "import os.path\n",
    "from pathlib import Path\n",
    "#res = cv.resize(img,None,fx=1, fy=2, interpolation = cv.INTER_CUBIC)\n",
    "\n",
    "cols = 347\n",
    "rows =  737+0\n",
    "\n",
    "\n",
    "def generate_variations(input_image, destination_directory, countr, caption):\n",
    "    pattern = Image.new(\"RGB\", (rows, cols), \"black\") #PIL image\n",
    "    draw =  np.array(pattern) #create numpy array\n",
    "    img_import = cv.imread(input_image)    \n",
    "#offset\n",
    "    for x in range(countr):\n",
    "        draw =  np.array(pattern) #create numpy array\n",
    "        xr=rn.randint(1,2)\n",
    "        yr=rn.randint(1,2)\n",
    "\n",
    "        dx=0\n",
    "        dy=0\n",
    "\n",
    "        #draw[dx+xr:cols-dx+xr, dy+xr:rows-dy+xr] = img_import #copy image to larger canvas\n",
    "        draw[0:cols,0:rows-0] = img_import #copy image to larger canvas\n",
    "        #rotation\n",
    "        rotationAngle=rn.randint(-5,5) #range of rotation\n",
    "        M = cv.getRotationMatrix2D((cols/2,rows/2),rotationAngle/10,1)\n",
    "        white_image = np.ones(cols, np.uint8)\n",
    "        image = cv.warpAffine(draw, M, (rows, cols),\n",
    "        flags=cv.INTER_CUBIC, borderMode=cv.BORDER_REPLICATE)\n",
    "        pts2 = np.float32([[0+100,0],[737-100,0],[0,343],[737,343]])\n",
    "        pts1 = np.float32([[0,0],[737,0],[0,343],[737,343]])\n",
    "        M1 = cv.getPerspectiveTransform(pts1,pts2)\n",
    "        persp = cv.warpPerspective(image,M1,(rows ,cols))\n",
    "    \n",
    "        radn_brightness_variation=rn.randint(0,10)\n",
    "        persp[:,:,0] += radn_brightness_variation\n",
    "        persp[:,:,1] += radn_brightness_variation\n",
    "        persp[:,:,2] += radn_brightness_variation\n",
    "        \n",
    "        kernel = np.ones((5,5),np.float32)/25\n",
    "        dst = cv.filter2D(persp,-1,kernel)\n",
    "        \n",
    "        os.chdir(destination_directory)\n",
    "        filename = str(x) + caption\n",
    "        cv.imwrite(filename, dst)\n",
    "        #plt.imshow(dst)\n",
    "        #plt.show()\n",
    "  \n",
    "def generate_images(array):\n",
    "    for i in range(0,len(array)):\n",
    "        my_file = Path(array[i][1])\n",
    "        os.mkdir(array[i][1])\n",
    "        #print(array[i][1]);\n"
   ]
  },
  {
   "cell_type": "markdown",
   "metadata": {},
   "source": [
    "GENERATE TRAINGING AND VALIDATION IMAGES"
   ]
  },
  {
   "cell_type": "code",
   "execution_count": 2,
   "metadata": {
    "collapsed": true
   },
   "outputs": [],
   "source": [
    "###source_dir=\"/home/peter/LCDtest/classes\";\n",
    "#target_dir_train=\"/home/peter/LCDtest/train_data/\";\n",
    "target_dir_validate=\"/home/peter/LCDtest/validation_data/\"\n",
    "#generate_variations(\"/home/peter/LCDtest/classes/\" + \"fake3.jpg\",target_dir_train, 1, \"3X.JPG\")"
   ]
  },
  {
   "cell_type": "code",
   "execution_count": 81,
   "metadata": {
    "scrolled": true
   },
   "outputs": [
    {
     "name": "stdout",
     "output_type": "stream",
     "text": [
      "01\n",
      "02\n",
      "03\n",
      "04\n",
      "05\n",
      "06\n",
      "07\n",
      "08\n",
      "09\n",
      "10\n",
      "11\n",
      "12\n",
      "13\n",
      "14\n",
      "15\n",
      "16\n",
      "17\n",
      "18\n",
      "19\n",
      "20\n",
      "21\n",
      "22\n",
      "23\n",
      "24\n",
      "25\n",
      "26\n",
      "27\n",
      "28\n",
      "29\n"
     ]
    }
   ],
   "source": [
    "#os.chdir(\"C:\\\\Users\\KRKOC\\\\projects\\\\ML\\learnopencv-master\\\\Keras-Transfer-Learning\\\\complete_dataset\\\\train\")\n",
    "for x in range(1,30):\n",
    "    file_name = str(x).zfill(2)+\".jpg\"\n",
    "    dir_name = str(x).zfill(2)\n",
    "    shutil.rmtree(target_dir_train+dir_name,ignore_errors=True)\n",
    "    os.mkdir(target_dir_train+dir_name)\n",
    "    generate_variations(\"/home/peter/LCDtest/classes/\" + file_name,target_dir_train+dir_name, 100, \"X.JPG\")\n",
    "    print(str(x).zfill(2))\n",
    "    "
   ]
  },
  {
   "cell_type": "code",
   "execution_count": 3,
   "metadata": {},
   "outputs": [
    {
     "name": "stdout",
     "output_type": "stream",
     "text": [
      "01\n",
      "02\n",
      "03\n",
      "04\n",
      "05\n",
      "06\n",
      "07\n",
      "08\n",
      "09\n",
      "10\n",
      "11\n",
      "12\n",
      "13\n",
      "14\n",
      "15\n",
      "16\n",
      "17\n",
      "18\n",
      "19\n",
      "20\n",
      "21\n",
      "22\n",
      "23\n",
      "24\n",
      "25\n",
      "26\n",
      "27\n",
      "28\n",
      "29\n"
     ]
    }
   ],
   "source": [
    "for x in range(1,30):\n",
    "    file_name = str(x).zfill(2)+\".jpg\"\n",
    "    dir_name = str(x).zfill(2)\n",
    "    shutil.rmtree(target_dir_validate+dir_name,ignore_errors=True)\n",
    "    os.mkdir(target_dir_validate+dir_name)\n",
    "\n",
    "    generate_variations(\"/home/peter/LCDtest/classes/\" + file_name, target_dir_validate+dir_name, 5, \"X.JPG\")\n",
    "    print(str(x).zfill(2))\n",
    "    \n",
    "    "
   ]
  },
  {
   "cell_type": "code",
   "execution_count": 10,
   "metadata": {
    "collapsed": true
   },
   "outputs": [],
   "source": [
    "    os.mkdir(target_dir_validate+ dir_name)"
   ]
  },
  {
   "cell_type": "code",
   "execution_count": null,
   "metadata": {
    "collapsed": true
   },
   "outputs": [],
   "source": []
  }
 ],
 "metadata": {
  "kernelspec": {
   "display_name": "Python 2",
   "language": "python",
   "name": "python2"
  },
  "language_info": {
   "codemirror_mode": {
    "name": "ipython",
    "version": 2
   },
   "file_extension": ".py",
   "mimetype": "text/x-python",
   "name": "python",
   "nbconvert_exporter": "python",
   "pygments_lexer": "ipython2",
   "version": "2.7.6"
  }
 },
 "nbformat": 4,
 "nbformat_minor": 2
}
